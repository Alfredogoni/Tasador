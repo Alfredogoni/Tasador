{
 "cells": [
  {
   "cell_type": "code",
   "execution_count": 1,
   "metadata": {},
   "outputs": [
    {
     "data": {
      "text/plain": [
       "'Creacion del Modelo'"
      ]
     },
     "execution_count": 1,
     "metadata": {},
     "output_type": "execute_result"
    }
   ],
   "source": [
    "'''Creacion del Modelo'''"
   ]
  },
  {
   "cell_type": "code",
   "execution_count": 2,
   "metadata": {},
   "outputs": [],
   "source": [
    "from sklearn import datasets\n",
    "from sklearn.model_selection import train_test_split, KFold, cross_val_score\n",
    "from sklearn.linear_model import LinearRegression, Lasso, LassoCV, Ridge, RidgeCV\n",
    "from sklearn.preprocessing import PolynomialFeatures, StandardScaler\n",
    "from sklearn.metrics import mean_squared_error, r2_score\n",
    "import pandas as pd\n",
    "import numpy as np\n",
    "import matplotlib.pyplot as plt\n",
    "%matplotlib inline"
   ]
  },
  {
   "cell_type": "code",
   "execution_count": 3,
   "metadata": {},
   "outputs": [
    {
     "data": {
      "text/html": [
       "<div>\n",
       "<style scoped>\n",
       "    .dataframe tbody tr th:only-of-type {\n",
       "        vertical-align: middle;\n",
       "    }\n",
       "\n",
       "    .dataframe tbody tr th {\n",
       "        vertical-align: top;\n",
       "    }\n",
       "\n",
       "    .dataframe thead th {\n",
       "        text-align: right;\n",
       "    }\n",
       "</style>\n",
       "<table border=\"1\" class=\"dataframe\">\n",
       "  <thead>\n",
       "    <tr style=\"text-align: right;\">\n",
       "      <th></th>\n",
       "      <th>Unnamed: 0</th>\n",
       "      <th>Unnamed: 0.1</th>\n",
       "      <th>BARRIO</th>\n",
       "      <th>COMUNA</th>\n",
       "      <th>ID</th>\n",
       "      <th>property_type</th>\n",
       "      <th>place_name</th>\n",
       "      <th>country_name</th>\n",
       "      <th>state_name</th>\n",
       "      <th>lat-lon</th>\n",
       "      <th>...</th>\n",
       "      <th>dis_espver</th>\n",
       "      <th>dis_clubes</th>\n",
       "      <th>dis_comisarias</th>\n",
       "      <th>dis_bomberos</th>\n",
       "      <th>dis_colegios</th>\n",
       "      <th>dis_restaurants</th>\n",
       "      <th>dis_subtes</th>\n",
       "      <th>dis_gym</th>\n",
       "      <th>dis_hospitales</th>\n",
       "      <th>dis_universidades</th>\n",
       "    </tr>\n",
       "  </thead>\n",
       "  <tbody>\n",
       "    <tr>\n",
       "      <th>1212</th>\n",
       "      <td>1212</td>\n",
       "      <td>10894</td>\n",
       "      <td>MONSERRAT</td>\n",
       "      <td>1.0</td>\n",
       "      <td>16526</td>\n",
       "      <td>apartment</td>\n",
       "      <td>Monserrat</td>\n",
       "      <td>Argentina</td>\n",
       "      <td>Capital Federal</td>\n",
       "      <td>-34.617778,-58.3843216</td>\n",
       "      <td>...</td>\n",
       "      <td>241.882538</td>\n",
       "      <td>162.570790</td>\n",
       "      <td>531.239234</td>\n",
       "      <td>606.322289</td>\n",
       "      <td>60.572560</td>\n",
       "      <td>893.821096</td>\n",
       "      <td>256.187795</td>\n",
       "      <td>684.482453</td>\n",
       "      <td>1047.864545</td>\n",
       "      <td>255.178948</td>\n",
       "    </tr>\n",
       "    <tr>\n",
       "      <th>1626</th>\n",
       "      <td>1626</td>\n",
       "      <td>11308</td>\n",
       "      <td>SAN NICOLAS</td>\n",
       "      <td>1.0</td>\n",
       "      <td>99360</td>\n",
       "      <td>apartment</td>\n",
       "      <td>Tribunales</td>\n",
       "      <td>Argentina</td>\n",
       "      <td>Capital Federal</td>\n",
       "      <td>-34.6075486204,-58.3847815536</td>\n",
       "      <td>...</td>\n",
       "      <td>278.604408</td>\n",
       "      <td>188.293819</td>\n",
       "      <td>727.735171</td>\n",
       "      <td>710.891363</td>\n",
       "      <td>41.758295</td>\n",
       "      <td>206.781413</td>\n",
       "      <td>276.162140</td>\n",
       "      <td>473.274986</td>\n",
       "      <td>1885.395423</td>\n",
       "      <td>152.329406</td>\n",
       "    </tr>\n",
       "    <tr>\n",
       "      <th>1573</th>\n",
       "      <td>1573</td>\n",
       "      <td>11255</td>\n",
       "      <td>SAN NICOLAS</td>\n",
       "      <td>1.0</td>\n",
       "      <td>40731</td>\n",
       "      <td>apartment</td>\n",
       "      <td>Congreso</td>\n",
       "      <td>Argentina</td>\n",
       "      <td>Capital Federal</td>\n",
       "      <td>-34.605664,-58.390085</td>\n",
       "      <td>...</td>\n",
       "      <td>185.993664</td>\n",
       "      <td>448.282150</td>\n",
       "      <td>427.310869</td>\n",
       "      <td>867.809699</td>\n",
       "      <td>171.341131</td>\n",
       "      <td>84.430064</td>\n",
       "      <td>246.724701</td>\n",
       "      <td>240.707545</td>\n",
       "      <td>1926.186305</td>\n",
       "      <td>195.949350</td>\n",
       "    </tr>\n",
       "    <tr>\n",
       "      <th>685</th>\n",
       "      <td>685</td>\n",
       "      <td>10365</td>\n",
       "      <td>PUERTO MADERO</td>\n",
       "      <td>1.0</td>\n",
       "      <td>7810</td>\n",
       "      <td>apartment</td>\n",
       "      <td>Puerto Madero</td>\n",
       "      <td>Argentina</td>\n",
       "      <td>Capital Federal</td>\n",
       "      <td>-34.6134006,-58.3614195</td>\n",
       "      <td>...</td>\n",
       "      <td>80.738300</td>\n",
       "      <td>1303.260568</td>\n",
       "      <td>1229.662486</td>\n",
       "      <td>723.159293</td>\n",
       "      <td>401.324480</td>\n",
       "      <td>596.973726</td>\n",
       "      <td>1013.129511</td>\n",
       "      <td>564.521794</td>\n",
       "      <td>1709.919091</td>\n",
       "      <td>422.089317</td>\n",
       "    </tr>\n",
       "    <tr>\n",
       "      <th>1088</th>\n",
       "      <td>1088</td>\n",
       "      <td>10770</td>\n",
       "      <td>MONSERRAT</td>\n",
       "      <td>1.0</td>\n",
       "      <td>56623</td>\n",
       "      <td>apartment</td>\n",
       "      <td>Monserrat</td>\n",
       "      <td>Argentina</td>\n",
       "      <td>Capital Federal</td>\n",
       "      <td>-34.614448,-58.383977</td>\n",
       "      <td>...</td>\n",
       "      <td>204.635627</td>\n",
       "      <td>463.988478</td>\n",
       "      <td>579.544051</td>\n",
       "      <td>402.440310</td>\n",
       "      <td>9.974633</td>\n",
       "      <td>523.122929</td>\n",
       "      <td>382.391574</td>\n",
       "      <td>641.516180</td>\n",
       "      <td>1302.477824</td>\n",
       "      <td>327.565354</td>\n",
       "    </tr>\n",
       "    <tr>\n",
       "      <th>...</th>\n",
       "      <td>...</td>\n",
       "      <td>...</td>\n",
       "      <td>...</td>\n",
       "      <td>...</td>\n",
       "      <td>...</td>\n",
       "      <td>...</td>\n",
       "      <td>...</td>\n",
       "      <td>...</td>\n",
       "      <td>...</td>\n",
       "      <td>...</td>\n",
       "      <td>...</td>\n",
       "      <td>...</td>\n",
       "      <td>...</td>\n",
       "      <td>...</td>\n",
       "      <td>...</td>\n",
       "      <td>...</td>\n",
       "      <td>...</td>\n",
       "      <td>...</td>\n",
       "      <td>...</td>\n",
       "      <td>...</td>\n",
       "      <td>...</td>\n",
       "    </tr>\n",
       "    <tr>\n",
       "      <th>1649</th>\n",
       "      <td>1649</td>\n",
       "      <td>11331</td>\n",
       "      <td>SAN NICOLAS</td>\n",
       "      <td>1.0</td>\n",
       "      <td>61208</td>\n",
       "      <td>apartment</td>\n",
       "      <td>San Nicolás</td>\n",
       "      <td>Argentina</td>\n",
       "      <td>Capital Federal</td>\n",
       "      <td>-34.6063687818,-58.384885184</td>\n",
       "      <td>...</td>\n",
       "      <td>284.962645</td>\n",
       "      <td>215.235861</td>\n",
       "      <td>613.811673</td>\n",
       "      <td>827.252014</td>\n",
       "      <td>165.950218</td>\n",
       "      <td>324.342271</td>\n",
       "      <td>335.583775</td>\n",
       "      <td>490.313432</td>\n",
       "      <td>1999.030754</td>\n",
       "      <td>190.845888</td>\n",
       "    </tr>\n",
       "    <tr>\n",
       "      <th>628</th>\n",
       "      <td>628</td>\n",
       "      <td>10308</td>\n",
       "      <td>PUERTO MADERO</td>\n",
       "      <td>1.0</td>\n",
       "      <td>244</td>\n",
       "      <td>apartment</td>\n",
       "      <td>Puerto Madero</td>\n",
       "      <td>Argentina</td>\n",
       "      <td>Capital Federal</td>\n",
       "      <td>-34.6114635369,-58.3627451275</td>\n",
       "      <td>...</td>\n",
       "      <td>58.348320</td>\n",
       "      <td>1307.177165</td>\n",
       "      <td>1426.317121</td>\n",
       "      <td>967.735248</td>\n",
       "      <td>620.934452</td>\n",
       "      <td>373.206406</td>\n",
       "      <td>809.667538</td>\n",
       "      <td>673.795397</td>\n",
       "      <td>1896.177477</td>\n",
       "      <td>380.783123</td>\n",
       "    </tr>\n",
       "    <tr>\n",
       "      <th>1373</th>\n",
       "      <td>1373</td>\n",
       "      <td>11055</td>\n",
       "      <td>SAN NICOLAS</td>\n",
       "      <td>1.0</td>\n",
       "      <td>31406</td>\n",
       "      <td>apartment</td>\n",
       "      <td>Tribunales</td>\n",
       "      <td>Argentina</td>\n",
       "      <td>Capital Federal</td>\n",
       "      <td>-34.6007008,-58.3897988</td>\n",
       "      <td>...</td>\n",
       "      <td>171.564208</td>\n",
       "      <td>79.474975</td>\n",
       "      <td>160.470705</td>\n",
       "      <td>1408.185838</td>\n",
       "      <td>69.708805</td>\n",
       "      <td>183.915113</td>\n",
       "      <td>327.065735</td>\n",
       "      <td>285.678859</td>\n",
       "      <td>2022.590668</td>\n",
       "      <td>178.234506</td>\n",
       "    </tr>\n",
       "    <tr>\n",
       "      <th>1189</th>\n",
       "      <td>1189</td>\n",
       "      <td>10871</td>\n",
       "      <td>MONSERRAT</td>\n",
       "      <td>1.0</td>\n",
       "      <td>1488</td>\n",
       "      <td>apartment</td>\n",
       "      <td>Monserrat</td>\n",
       "      <td>Argentina</td>\n",
       "      <td>Capital Federal</td>\n",
       "      <td>-34.6176608639,-58.3836987863</td>\n",
       "      <td>...</td>\n",
       "      <td>224.045855</td>\n",
       "      <td>177.993743</td>\n",
       "      <td>472.953198</td>\n",
       "      <td>631.108339</td>\n",
       "      <td>81.517748</td>\n",
       "      <td>878.618893</td>\n",
       "      <td>200.812983</td>\n",
       "      <td>737.346667</td>\n",
       "      <td>1103.518469</td>\n",
       "      <td>198.400977</td>\n",
       "    </tr>\n",
       "    <tr>\n",
       "      <th>77</th>\n",
       "      <td>77</td>\n",
       "      <td>3745</td>\n",
       "      <td>CONSTITUCION</td>\n",
       "      <td>1.0</td>\n",
       "      <td>56120</td>\n",
       "      <td>apartment</td>\n",
       "      <td>Congreso</td>\n",
       "      <td>Argentina</td>\n",
       "      <td>Capital Federal</td>\n",
       "      <td>-34.6200428,-58.3858268</td>\n",
       "      <td>...</td>\n",
       "      <td>380.311322</td>\n",
       "      <td>182.523360</td>\n",
       "      <td>292.148640</td>\n",
       "      <td>775.491077</td>\n",
       "      <td>47.244564</td>\n",
       "      <td>1160.403309</td>\n",
       "      <td>262.269481</td>\n",
       "      <td>669.955816</td>\n",
       "      <td>811.433465</td>\n",
       "      <td>421.018196</td>\n",
       "    </tr>\n",
       "  </tbody>\n",
       "</table>\n",
       "<p>2110 rows × 66 columns</p>\n",
       "</div>"
      ],
      "text/plain": [
       "      Unnamed: 0  Unnamed: 0.1         BARRIO  COMUNA     ID property_type  \\\n",
       "1212        1212         10894      MONSERRAT     1.0  16526     apartment   \n",
       "1626        1626         11308    SAN NICOLAS     1.0  99360     apartment   \n",
       "1573        1573         11255    SAN NICOLAS     1.0  40731     apartment   \n",
       "685          685         10365  PUERTO MADERO     1.0   7810     apartment   \n",
       "1088        1088         10770      MONSERRAT     1.0  56623     apartment   \n",
       "...          ...           ...            ...     ...    ...           ...   \n",
       "1649        1649         11331    SAN NICOLAS     1.0  61208     apartment   \n",
       "628          628         10308  PUERTO MADERO     1.0    244     apartment   \n",
       "1373        1373         11055    SAN NICOLAS     1.0  31406     apartment   \n",
       "1189        1189         10871      MONSERRAT     1.0   1488     apartment   \n",
       "77            77          3745   CONSTITUCION     1.0  56120     apartment   \n",
       "\n",
       "         place_name country_name       state_name  \\\n",
       "1212      Monserrat    Argentina  Capital Federal   \n",
       "1626     Tribunales    Argentina  Capital Federal   \n",
       "1573       Congreso    Argentina  Capital Federal   \n",
       "685   Puerto Madero    Argentina  Capital Federal   \n",
       "1088      Monserrat    Argentina  Capital Federal   \n",
       "...             ...          ...              ...   \n",
       "1649    San Nicolás    Argentina  Capital Federal   \n",
       "628   Puerto Madero    Argentina  Capital Federal   \n",
       "1373     Tribunales    Argentina  Capital Federal   \n",
       "1189      Monserrat    Argentina  Capital Federal   \n",
       "77         Congreso    Argentina  Capital Federal   \n",
       "\n",
       "                            lat-lon  ...  dis_espver   dis_clubes  \\\n",
       "1212         -34.617778,-58.3843216  ...  241.882538   162.570790   \n",
       "1626  -34.6075486204,-58.3847815536  ...  278.604408   188.293819   \n",
       "1573          -34.605664,-58.390085  ...  185.993664   448.282150   \n",
       "685         -34.6134006,-58.3614195  ...   80.738300  1303.260568   \n",
       "1088          -34.614448,-58.383977  ...  204.635627   463.988478   \n",
       "...                             ...  ...         ...          ...   \n",
       "1649   -34.6063687818,-58.384885184  ...  284.962645   215.235861   \n",
       "628   -34.6114635369,-58.3627451275  ...   58.348320  1307.177165   \n",
       "1373        -34.6007008,-58.3897988  ...  171.564208    79.474975   \n",
       "1189  -34.6176608639,-58.3836987863  ...  224.045855   177.993743   \n",
       "77          -34.6200428,-58.3858268  ...  380.311322   182.523360   \n",
       "\n",
       "     dis_comisarias  dis_bomberos  dis_colegios  dis_restaurants   dis_subtes  \\\n",
       "1212     531.239234    606.322289     60.572560       893.821096   256.187795   \n",
       "1626     727.735171    710.891363     41.758295       206.781413   276.162140   \n",
       "1573     427.310869    867.809699    171.341131        84.430064   246.724701   \n",
       "685     1229.662486    723.159293    401.324480       596.973726  1013.129511   \n",
       "1088     579.544051    402.440310      9.974633       523.122929   382.391574   \n",
       "...             ...           ...           ...              ...          ...   \n",
       "1649     613.811673    827.252014    165.950218       324.342271   335.583775   \n",
       "628     1426.317121    967.735248    620.934452       373.206406   809.667538   \n",
       "1373     160.470705   1408.185838     69.708805       183.915113   327.065735   \n",
       "1189     472.953198    631.108339     81.517748       878.618893   200.812983   \n",
       "77       292.148640    775.491077     47.244564      1160.403309   262.269481   \n",
       "\n",
       "         dis_gym  dis_hospitales dis_universidades  \n",
       "1212  684.482453     1047.864545        255.178948  \n",
       "1626  473.274986     1885.395423        152.329406  \n",
       "1573  240.707545     1926.186305        195.949350  \n",
       "685   564.521794     1709.919091        422.089317  \n",
       "1088  641.516180     1302.477824        327.565354  \n",
       "...          ...             ...               ...  \n",
       "1649  490.313432     1999.030754        190.845888  \n",
       "628   673.795397     1896.177477        380.783123  \n",
       "1373  285.678859     2022.590668        178.234506  \n",
       "1189  737.346667     1103.518469        198.400977  \n",
       "77    669.955816      811.433465        421.018196  \n",
       "\n",
       "[2110 rows x 66 columns]"
      ]
     },
     "execution_count": 3,
     "metadata": {},
     "output_type": "execute_result"
    }
   ],
   "source": [
    "'''Cargamos la comuna 1'''\n",
    "df1 = pd.read_csv(\"comuna_1_dummies.csv\",encoding=\"utf-8\")\n",
    "df1 = df1.drop(df1[df1.surface_total_in_m2 <13].index)\n",
    "df1.drop(df1[(df1[\"surface_total_in_m2\"]>10000)].index,inplace=True)\n",
    "df1.sample(frac=1)"
   ]
  },
  {
   "cell_type": "code",
   "execution_count": 4,
   "metadata": {},
   "outputs": [],
   "source": [
    "X_tr_1, X_te_1, y_tr_1, y_te_1 = train_test_split(df1, df1, test_size=0.3, random_state=25)"
   ]
  },
  {
   "cell_type": "code",
   "execution_count": 5,
   "metadata": {},
   "outputs": [],
   "source": [
    "'''Tiremos los deptos que tienen menos de 13 m2 reportados'''\n",
    "X_train_1 = X_tr_1.drop(X_tr_1[X_tr_1.surface_total_in_m2 <13].index)\n",
    "y_train_1 = y_tr_1.drop(y_tr_1[y_tr_1.surface_total_in_m2 <13].index)"
   ]
  },
  {
   "cell_type": "code",
   "execution_count": 6,
   "metadata": {},
   "outputs": [],
   "source": [
    "'''Tiremos aquellos departamentos que tienen mas de 1 ambiente y miden menos de 24 m2'''\n",
    "X_train_1.drop(X_train_1[(X_train_1[\"surface_total_in_m2\"] < 24) & (X_train_1[\"rooms\"] > 1 )].index,inplace=True)\n",
    "y_train_1.drop(y_train_1[(y_train_1[\"surface_total_in_m2\"] < 24) & (y_train_1[\"rooms\"] > 1 )].index,inplace=True)"
   ]
  },
  {
   "cell_type": "code",
   "execution_count": 7,
   "metadata": {},
   "outputs": [],
   "source": [
    "'''como solo hay 38 propiedades que superan los 7 ambientes, las elimino, las mismas son hoteles o deptos muy extravagantes'''\n",
    "X_train_1.drop(X_train_1[(X_train_1[\"rooms\"]>7)].index,inplace=True)\n",
    "y_train_1.drop(y_train_1[(y_train_1[\"rooms\"]>7)].index,inplace=True)"
   ]
  },
  {
   "cell_type": "code",
   "execution_count": 8,
   "metadata": {},
   "outputs": [],
   "source": [
    "'''me deshago de superficies superiores a 600 m2, son 17 propiedades muy extravagantes'''\n",
    "X_train_1.drop(X_train_1[(X_train_1[\"surface_total_in_m2\"]>600)].index,inplace=True)\n",
    "y_train_1.drop(y_train_1[(y_train_1[\"surface_total_in_m2\"]>600)].index,inplace=True)"
   ]
  },
  {
   "cell_type": "code",
   "execution_count": 9,
   "metadata": {},
   "outputs": [],
   "source": [
    "'''Deshagamosnos de los extremos sin sentido para entrenar el modelo'''\n",
    "X_train_1.drop(X_train_1[(X_train_1[\"price_usd_per_m2\"]>15000) | (X_train_1[\"price_usd_per_m2\"]<100)].index,inplace=True)\n",
    "y_train_1.drop(y_train_1[(y_train_1[\"price_usd_per_m2\"]>15000) | (y_train_1[\"price_usd_per_m2\"]<100)].index,inplace=True)\n",
    "#X_train.describe()"
   ]
  },
  {
   "cell_type": "code",
   "execution_count": 10,
   "metadata": {},
   "outputs": [
    {
     "data": {
      "text/plain": [
       "Index(['Unnamed: 0', 'Unnamed: 0.1', 'BARRIO', 'COMUNA', 'ID', 'property_type',\n",
       "       'place_name', 'country_name', 'state_name', 'lat-lon', 'lat', 'lon',\n",
       "       'currency', 'price_aprox_local_currency', 'price_aprox_usd',\n",
       "       'surface_covered_in_m2', 'price_per_m2', 'floor', 'expenses',\n",
       "       'description', 'title', 'rooms', 'price', 'surface_total_in_m2',\n",
       "       'price_usd_per_m2', 'price_consistent', 'pozo', 'geometry', '2.0',\n",
       "       '3.0', '4.0', '5.0', '6.0', '7.0', '8.0', '9.0', '10.0', '11.0', '12.0',\n",
       "       '14.0', '17.0', '22.0', 'cochera', 'seguridad', 'parrilla', 'pileta',\n",
       "       'gimnasio', 'acondicionado', 'solarium', 'excelente', 'terraza',\n",
       "       'lavadero', 'balcon', 'crimes', 'colectivos', 'dis_bancos',\n",
       "       'dis_espver', 'dis_clubes', 'dis_comisarias', 'dis_bomberos',\n",
       "       'dis_colegios', 'dis_restaurants', 'dis_subtes', 'dis_gym',\n",
       "       'dis_hospitales', 'dis_universidades'],\n",
       "      dtype='object')"
      ]
     },
     "execution_count": 10,
     "metadata": {},
     "output_type": "execute_result"
    }
   ],
   "source": [
    "X_train_1.columns"
   ]
  },
  {
   "cell_type": "code",
   "execution_count": 11,
   "metadata": {},
   "outputs": [],
   "source": [
    "'''Creemos la lista de Features que deseamos utilizar en el modelo'''\n",
    "feature_cols=['surface_total_in_m2','cochera','seguridad',\n",
    "              'parrilla','pileta','gimnasio','acondicionado','terraza','lavadero','balcon',\n",
    "              'crimes','dis_bancos','dis_clubes','dis_comisarias','dis_bomberos','dis_colegios',\n",
    "              'dis_restaurants','dis_subtes','dis_gym','dis_hospitales','dis_universidades','colectivos','dis_espver']\n",
    "X_model_train_1 = X_train_1[feature_cols]\n",
    "X_model_test_1 = X_te_1[feature_cols]\n",
    "y_model_train_1 = y_train_1[\"price_usd_per_m2\"]\n",
    "y_model_test_1 = y_te_1[\"price_usd_per_m2\"]"
   ]
  },
  {
   "cell_type": "code",
   "execution_count": 12,
   "metadata": {},
   "outputs": [
    {
     "data": {
      "text/plain": [
       "<matplotlib.collections.PathCollection at 0x25afa125948>"
      ]
     },
     "execution_count": 12,
     "metadata": {},
     "output_type": "execute_result"
    },
    {
     "data": {
      "image/png": "[encoded data removed]",
      "text/plain": [
       "<Figure size 432x288 with 1 Axes>"
      ]
     },
     "metadata": {
      "needs_background": "light"
     },
     "output_type": "display_data"
    }
   ],
   "source": [
    "plt.scatter(X_model_test_1[\"surface_total_in_m2\"],y_model_test_1)"
   ]
  },
  {
   "cell_type": "code",
   "execution_count": 13,
   "metadata": {
    "scrolled": false
   },
   "outputs": [
    {
     "data": {
      "text/plain": [
       "Index(['surface_total_in_m2', 'cochera', 'seguridad', 'parrilla', 'pileta',\n",
       "       'gimnasio', 'acondicionado', 'terraza', 'lavadero', 'balcon', 'crimes',\n",
       "       'dis_bancos', 'dis_clubes', 'dis_comisarias', 'dis_bomberos',\n",
       "       'dis_colegios', 'dis_restaurants', 'dis_subtes', 'dis_gym',\n",
       "       'dis_hospitales', 'dis_universidades', 'colectivos', 'dis_espver'],\n",
       "      dtype='object')"
      ]
     },
     "execution_count": 13,
     "metadata": {},
     "output_type": "execute_result"
    }
   ],
   "source": [
    "X_model_train_1.columns"
   ]
  },
  {
   "cell_type": "code",
   "execution_count": 14,
   "metadata": {},
   "outputs": [],
   "source": [
    "#Creamos el modelo de Regresion Lineal\n",
    "linreg_1 = LinearRegression()"
   ]
  },
  {
   "cell_type": "code",
   "execution_count": 15,
   "metadata": {
    "scrolled": true
   },
   "outputs": [],
   "source": [
    "#Entrenamos el modelo\n",
    "linreg_1.fit(X_model_train_1, y_model_train_1)\n",
    "lin_result = cross_val_score(linreg_1,X_model_train_1,y_model_train_1,cv=5)"
   ]
  },
  {
   "cell_type": "code",
   "execution_count": 16,
   "metadata": {
    "scrolled": false
   },
   "outputs": [
    {
     "name": "stdout",
     "output_type": "stream",
     "text": [
      "1960.5643966195285\n",
      "[ 2.74348592e-01  2.33640145e+02 -1.37366407e+01  2.36954510e+02\n",
      "  4.29784930e+02  9.52775922e+01  1.34003335e+02  9.72590332e+01\n",
      " -6.61657767e+00 -1.20514960e+02 -8.39866359e-01 -8.57119317e-01\n",
      "  4.94314805e-01  6.11903285e-01  9.76670844e-02  1.44239627e+00\n",
      " -2.56356152e-01  1.66147539e+00 -2.09943072e-01  3.53858728e-01\n",
      " -9.03844998e-02 -1.16043271e+01 -1.79026616e+00]\n"
     ]
    }
   ],
   "source": [
    "# Imprimimos coeficientes\n",
    "print (linreg_1.intercept_)\n",
    "print (linreg_1.coef_)"
   ]
  },
  {
   "cell_type": "code",
   "execution_count": 17,
   "metadata": {},
   "outputs": [
    {
     "name": "stdout",
     "output_type": "stream",
     "text": [
      "Score Train Lineal: 0.7339713400996759\n",
      "Train MSE lineal: 791419.0866210542\n",
      "Cross Validation Training Scores: [0.76476855 0.73582037 0.69404197 0.68303463 0.72725127]\n",
      "media: 0.720983357332695 desviacion: 0.029470362007149926\n"
     ]
    }
   ],
   "source": [
    "# Calculamos el R2\n",
    "\n",
    "print(\"Score Train Lineal:\", linreg_1.score(X_model_train_1, y_model_train_1))\n",
    "\n",
    "# Calculamos el MSE\n",
    "\n",
    "lmpred_Tr_1 = linreg_1.predict(X_model_train_1)\n",
    "\n",
    "print(\"Train MSE lineal:\", mean_squared_error(y_model_train_1,lmpred_Tr_1))\n",
    "print(\"Cross Validation Training Scores:\", lin_result)\n",
    "print(\"media:\", lin_result.mean(),\"desviacion:\",np.std(lin_result))"
   ]
  },
  {
   "cell_type": "code",
   "execution_count": 18,
   "metadata": {},
   "outputs": [
    {
     "name": "stdout",
     "output_type": "stream",
     "text": [
      "Score Test Lineal: 0.7129957189398437\n",
      "Test MSE lineal= 759735.7735514012\n"
     ]
    }
   ],
   "source": [
    "# Calculamos el R2 de Test\n",
    "\n",
    "print(\"Score Test Lineal:\", linreg_1.score(X_model_test_1, y_model_test_1))\n",
    "\n",
    "# Calculamos el MSE\n",
    "\n",
    "lmpred_Te_1 = linreg_1.predict(X_model_test_1)\n",
    "\n",
    "print(\"Test MSE lineal=\", mean_squared_error(y_model_test_1,lmpred_Te_1))"
   ]
  },
  {
   "cell_type": "code",
   "execution_count": 19,
   "metadata": {},
   "outputs": [],
   "source": [
    "#Estandaricemos los valores para aplicar Lasso\n",
    "from sklearn.preprocessing import StandardScaler\n",
    "se = StandardScaler()\n",
    "X_st_1 = se.fit_transform(X_model_train_1)"
   ]
  },
  {
   "cell_type": "code",
   "execution_count": 20,
   "metadata": {},
   "outputs": [],
   "source": [
    "#Proveemos alfas\n",
    "myalphas_1_lasso = np.linspace(10,20,1000)\n",
    "myalphas_1_ridge = np.linspace(10,200,1000)"
   ]
  },
  {
   "cell_type": "code",
   "execution_count": 21,
   "metadata": {},
   "outputs": [],
   "source": [
    "#modellasso = Lasso()\n",
    "#modellasso.fit(X_st,y_train)"
   ]
  },
  {
   "cell_type": "code",
   "execution_count": 22,
   "metadata": {},
   "outputs": [],
   "source": [
    "#Apliquemos un modelo lasso con cross-validation para encontrar el mejor alfa\n",
    "modellasso_1 = LassoCV(alphas=myalphas_1_lasso)\n",
    "modelridge_1 = RidgeCV(alphas=myalphas_1_ridge)\n",
    "modellasso_1.fit(X_st_1,y_model_train_1)\n",
    "modelridge_1.fit(X_st_1,y_model_train_1)\n",
    "lasso_results = cross_val_score(modellasso_1,X_st_1,y_model_train_1,cv=5,scoring='r2')\n",
    "ridge_results = cross_val_score(modelridge_1,X_st_1,y_model_train_1,cv=5,scoring='r2')"
   ]
  },
  {
   "cell_type": "code",
   "execution_count": 23,
   "metadata": {
    "scrolled": true
   },
   "outputs": [
    {
     "name": "stdout",
     "output_type": "stream",
     "text": [
      "Alfa Lasso 10.39039039039039\n",
      "Alfa Ridge 48.608608608608606\n"
     ]
    }
   ],
   "source": [
    "#Veamos el alfa seleccionado por el modelo\n",
    "print(\"Alfa Lasso\",modellasso_1.alpha_)\n",
    "print(\"Alfa Ridge\",modelridge_1.alpha_)"
   ]
  },
  {
   "cell_type": "code",
   "execution_count": 24,
   "metadata": {
    "scrolled": false
   },
   "outputs": [
    {
     "data": {
      "text/html": [
       "<div>\n",
       "<style scoped>\n",
       "    .dataframe tbody tr th:only-of-type {\n",
       "        vertical-align: middle;\n",
       "    }\n",
       "\n",
       "    .dataframe tbody tr th {\n",
       "        vertical-align: top;\n",
       "    }\n",
       "\n",
       "    .dataframe thead th {\n",
       "        text-align: right;\n",
       "    }\n",
       "</style>\n",
       "<table border=\"1\" class=\"dataframe\">\n",
       "  <thead>\n",
       "    <tr style=\"text-align: right;\">\n",
       "      <th></th>\n",
       "      <th>Feat</th>\n",
       "      <th>coef</th>\n",
       "    </tr>\n",
       "  </thead>\n",
       "  <tbody>\n",
       "    <tr>\n",
       "      <th>17</th>\n",
       "      <td>dis_subtes</td>\n",
       "      <td>590.615250</td>\n",
       "    </tr>\n",
       "    <tr>\n",
       "      <th>19</th>\n",
       "      <td>dis_hospitales</td>\n",
       "      <td>241.192347</td>\n",
       "    </tr>\n",
       "    <tr>\n",
       "      <th>15</th>\n",
       "      <td>dis_colegios</td>\n",
       "      <td>203.858564</td>\n",
       "    </tr>\n",
       "    <tr>\n",
       "      <th>4</th>\n",
       "      <td>pileta</td>\n",
       "      <td>193.301742</td>\n",
       "    </tr>\n",
       "    <tr>\n",
       "      <th>13</th>\n",
       "      <td>dis_comisarias</td>\n",
       "      <td>189.219586</td>\n",
       "    </tr>\n",
       "    <tr>\n",
       "      <th>12</th>\n",
       "      <td>dis_clubes</td>\n",
       "      <td>179.799860</td>\n",
       "    </tr>\n",
       "    <tr>\n",
       "      <th>1</th>\n",
       "      <td>cochera</td>\n",
       "      <td>110.385964</td>\n",
       "    </tr>\n",
       "    <tr>\n",
       "      <th>3</th>\n",
       "      <td>parrilla</td>\n",
       "      <td>73.064731</td>\n",
       "    </tr>\n",
       "    <tr>\n",
       "      <th>6</th>\n",
       "      <td>acondicionado</td>\n",
       "      <td>39.949695</td>\n",
       "    </tr>\n",
       "    <tr>\n",
       "      <th>7</th>\n",
       "      <td>terraza</td>\n",
       "      <td>28.679579</td>\n",
       "    </tr>\n",
       "    <tr>\n",
       "      <th>5</th>\n",
       "      <td>gimnasio</td>\n",
       "      <td>25.255619</td>\n",
       "    </tr>\n",
       "    <tr>\n",
       "      <th>14</th>\n",
       "      <td>dis_bomberos</td>\n",
       "      <td>24.159257</td>\n",
       "    </tr>\n",
       "    <tr>\n",
       "      <th>0</th>\n",
       "      <td>surface_total_in_m2</td>\n",
       "      <td>15.146540</td>\n",
       "    </tr>\n",
       "    <tr>\n",
       "      <th>2</th>\n",
       "      <td>seguridad</td>\n",
       "      <td>0.000000</td>\n",
       "    </tr>\n",
       "    <tr>\n",
       "      <th>8</th>\n",
       "      <td>lavadero</td>\n",
       "      <td>-0.000000</td>\n",
       "    </tr>\n",
       "    <tr>\n",
       "      <th>20</th>\n",
       "      <td>dis_universidades</td>\n",
       "      <td>-0.000000</td>\n",
       "    </tr>\n",
       "    <tr>\n",
       "      <th>18</th>\n",
       "      <td>dis_gym</td>\n",
       "      <td>-23.380381</td>\n",
       "    </tr>\n",
       "    <tr>\n",
       "      <th>9</th>\n",
       "      <td>balcon</td>\n",
       "      <td>-45.760544</td>\n",
       "    </tr>\n",
       "    <tr>\n",
       "      <th>16</th>\n",
       "      <td>dis_restaurants</td>\n",
       "      <td>-64.724609</td>\n",
       "    </tr>\n",
       "    <tr>\n",
       "      <th>11</th>\n",
       "      <td>dis_bancos</td>\n",
       "      <td>-102.834645</td>\n",
       "    </tr>\n",
       "    <tr>\n",
       "      <th>22</th>\n",
       "      <td>dis_espver</td>\n",
       "      <td>-169.913497</td>\n",
       "    </tr>\n",
       "    <tr>\n",
       "      <th>10</th>\n",
       "      <td>crimes</td>\n",
       "      <td>-188.720246</td>\n",
       "    </tr>\n",
       "    <tr>\n",
       "      <th>21</th>\n",
       "      <td>colectivos</td>\n",
       "      <td>-281.978981</td>\n",
       "    </tr>\n",
       "  </tbody>\n",
       "</table>\n",
       "</div>"
      ],
      "text/plain": [
       "                   Feat        coef\n",
       "17           dis_subtes  590.615250\n",
       "19       dis_hospitales  241.192347\n",
       "15         dis_colegios  203.858564\n",
       "4                pileta  193.301742\n",
       "13       dis_comisarias  189.219586\n",
       "12           dis_clubes  179.799860\n",
       "1               cochera  110.385964\n",
       "3              parrilla   73.064731\n",
       "6         acondicionado   39.949695\n",
       "7               terraza   28.679579\n",
       "5              gimnasio   25.255619\n",
       "14         dis_bomberos   24.159257\n",
       "0   surface_total_in_m2   15.146540\n",
       "2             seguridad    0.000000\n",
       "8              lavadero   -0.000000\n",
       "20    dis_universidades   -0.000000\n",
       "18              dis_gym  -23.380381\n",
       "9                balcon  -45.760544\n",
       "16      dis_restaurants  -64.724609\n",
       "11           dis_bancos -102.834645\n",
       "22           dis_espver -169.913497\n",
       "10               crimes -188.720246\n",
       "21           colectivos -281.978981"
      ]
     },
     "execution_count": 24,
     "metadata": {},
     "output_type": "execute_result"
    }
   ],
   "source": [
    "#Veamos los coeficientes\n",
    "pd.DataFrame({\"Feat\":feature_cols,\"coef\":modellasso_1.coef_}).sort_values(by=\"coef\",ascending=False)"
   ]
  },
  {
   "cell_type": "code",
   "execution_count": 25,
   "metadata": {},
   "outputs": [],
   "source": [
    "#Estandaricemos los valores de Test\n",
    "X_st_test_1 = se.fit_transform(X_model_test_1)"
   ]
  },
  {
   "cell_type": "code",
   "execution_count": 26,
   "metadata": {
    "scrolled": true
   },
   "outputs": [
    {
     "name": "stdout",
     "output_type": "stream",
     "text": [
      "Score Test Lasso: 0.7126708782010522\n",
      "Score Test Ridge: 0.7125018166123374\n",
      "Test MSE Lasso 760595.667100916\n",
      "CV Training Score Lasso: [0.76098692 0.73863207 0.69784286 0.68341423 0.72585979]\n",
      "Lasso media: 0.7213471743420554 desviacion: 0.027863245117162344\n",
      "Test MSE Ridge: 761043.1940033222\n",
      "CV Training Score Ridge: [0.76036328 0.73824368 0.69382996 0.68571234 0.72827164]\n",
      "Ridge media: 0.7212841769565038 desviacion: 0.02786652326022819\n"
     ]
    }
   ],
   "source": [
    "# Calculamos el R2 de la regresion Lineal\n",
    "\n",
    "lmpred_lasso_Te_1 = modellasso_1.predict(X_st_test_1)\n",
    "lmpred_ridge_Te_1 = modelridge_1.predict(X_st_test_1)\n",
    "print(\"Score Test Lasso:\", r2_score(y_model_test_1,lmpred_lasso_Te_1))\n",
    "print(\"Score Test Ridge:\", r2_score(y_model_test_1,lmpred_ridge_Te_1))\n",
    "# Calculamos el MSE\n",
    "\n",
    "print(\"Test MSE Lasso\", mean_squared_error(y_model_test_1,lmpred_lasso_Te_1))\n",
    "print(\"CV Training Score Lasso:\", lasso_results)\n",
    "print(\"Lasso media:\", lasso_results.mean(),\"desviacion:\",np.std(lasso_results))\n",
    "print(\"Test MSE Ridge:\", mean_squared_error(y_model_test_1,lmpred_ridge_Te_1))\n",
    "print(\"CV Training Score Ridge:\", ridge_results)\n",
    "print(\"Ridge media:\", ridge_results.mean(),\"desviacion:\",np.std(ridge_results))"
   ]
  },
  {
   "cell_type": "code",
   "execution_count": 27,
   "metadata": {},
   "outputs": [
    {
     "data": {
      "text/plain": [
       "array([  15.14654049,  110.38596362,    0.        ,   73.06473079,\n",
       "        193.30174186,   25.25561905,   39.94969484,   28.67957938,\n",
       "         -0.        ,  -45.76054377, -188.72024593, -102.8346448 ,\n",
       "        179.79986016,  189.21958573,   24.15925735,  203.85856378,\n",
       "        -64.72460943,  590.61525005,  -23.3803814 ,  241.19234673,\n",
       "         -0.        , -281.97898065, -169.91349684])"
      ]
     },
     "execution_count": 27,
     "metadata": {},
     "output_type": "execute_result"
    }
   ],
   "source": [
    "modellasso_1.coef_"
   ]
  },
  {
   "cell_type": "code",
   "execution_count": 28,
   "metadata": {},
   "outputs": [],
   "source": [
    "#Definamos un polinomio de Features de grado 2\n",
    "poly = PolynomialFeatures(interaction_only=False)\n",
    "poly_x_train_1 = poly.fit_transform(X_model_train_1)\n",
    "poly_x_test_1 = poly.transform(X_model_test_1)"
   ]
  },
  {
   "cell_type": "code",
   "execution_count": 29,
   "metadata": {},
   "outputs": [],
   "source": [
    "#Hagamos la regresion lineal del polinomio\n",
    "linregpoly_1 = LinearRegression()\n",
    "linregpoly_1.fit(poly_x_train_1, y_model_train_1)\n",
    "linpoly_result = cross_val_score(linregpoly_1,poly_x_train_1,y_model_train_1,cv=5)"
   ]
  },
  {
   "cell_type": "code",
   "execution_count": 30,
   "metadata": {},
   "outputs": [
    {
     "name": "stdout",
     "output_type": "stream",
     "text": [
      "Score Train Lineal: 0.8641810541030561\n",
      "Train MSE lineal= 404053.10521004786\n",
      "Cross Validation Training Score: [0.72401629 0.68215072 0.75283826 0.60736167 0.68988442]\n",
      "media: 0.6912502732075914 desviacion: 0.04896663345421448\n"
     ]
    }
   ],
   "source": [
    "# Calculamos el R2 de la Regresion Lineal\n",
    "\n",
    "print(\"Score Train Lineal:\", linregpoly_1.score(poly_x_train_1, y_model_train_1))\n",
    "\n",
    "# Calculamos el MSE\n",
    "\n",
    "lmpred_Tr_1 = linregpoly_1.predict(poly_x_train_1)\n",
    "\n",
    "print(\"Train MSE lineal=\", mean_squared_error(y_model_train_1,lmpred_Tr_1))\n",
    "print(\"Cross Validation Training Score:\", linpoly_result)\n",
    "print(\"media:\", linpoly_result.mean(),\"desviacion:\",np.std(linpoly_result))"
   ]
  },
  {
   "cell_type": "code",
   "execution_count": 31,
   "metadata": {},
   "outputs": [
    {
     "name": "stdout",
     "output_type": "stream",
     "text": [
      "Score Test Lineal Polinomio: 0.701565463527678\n",
      "Test MSE lineal Polinomio: 789993.0711268046\n"
     ]
    }
   ],
   "source": [
    "# Calculamos el R2 de la Regresion Lineal de Test\n",
    "\n",
    "print(\"Score Test Lineal Polinomio:\", linregpoly_1.score(poly_x_test_1, y_model_test_1))\n",
    "\n",
    "# Calculamos el MSE\n",
    "\n",
    "lmpred_Te_1 = linregpoly_1.predict(poly_x_test_1)\n",
    "\n",
    "print(\"Test MSE lineal Polinomio:\", mean_squared_error(y_model_test_1,lmpred_Te_1))"
   ]
  },
  {
   "cell_type": "code",
   "execution_count": 32,
   "metadata": {},
   "outputs": [],
   "source": [
    "#Estandaricemos el polinomio\n",
    "se = StandardScaler()\n",
    "poly_x_st_1_lasso = se.fit_transform(poly_x_train_1)\n",
    "poly_x_st_1_ridge = se.fit_transform(poly_x_train_1)"
   ]
  },
  {
   "cell_type": "code",
   "execution_count": 33,
   "metadata": {},
   "outputs": [],
   "source": [
    "#Probemos alfas\n",
    "myalphas2_1_lasso = np.linspace(10,15,1000)\n",
    "myalphas2_1_ridge = np.linspace(80,200,1000)"
   ]
  },
  {
   "cell_type": "code",
   "execution_count": 34,
   "metadata": {},
   "outputs": [],
   "source": [
    "#modellasso = Lasso()\n",
    "#modellasso.fit(X_st,y_train)"
   ]
  },
  {
   "cell_type": "code",
   "execution_count": 35,
   "metadata": {},
   "outputs": [
    {
     "name": "stdout",
     "output_type": "stream",
     "text": [
      "Lasso media: 0.7752434144274596 desviacion: 0.03433150807801081\n",
      "Ridge media: 0.7741584891328961 desviacion: 0.03825148104367176\n"
     ]
    }
   ],
   "source": [
    "#Generemos un modelo Lasso para el polinomio con cross-validation\n",
    "modellassopoly_1 = LassoCV(alphas=myalphas2_1_lasso)\n",
    "modelridgepoly_1 = RidgeCV(alphas=myalphas2_1_ridge)\n",
    "modellassopoly_1.fit(poly_x_st_1_lasso,y_model_train_1)\n",
    "modelridgepoly_1.fit(poly_x_st_1_ridge,y_model_train_1)\n",
    "polylasso_results = cross_val_score(modellassopoly_1,poly_x_st_1_lasso,y_model_train_1,cv=5,scoring='r2')\n",
    "polyridge_results = cross_val_score(modelridgepoly_1,poly_x_st_1_ridge,y_model_train_1,cv=5,scoring='r2')\n",
    "print(\"Lasso media:\", polylasso_results.mean(),\"desviacion:\",np.std(polylasso_results))\n",
    "print(\"Ridge media:\", polyridge_results.mean(),\"desviacion:\",np.std(polyridge_results))"
   ]
  },
  {
   "cell_type": "code",
   "execution_count": 36,
   "metadata": {
    "scrolled": false
   },
   "outputs": [
    {
     "name": "stdout",
     "output_type": "stream",
     "text": [
      "Alfa Lasso 10.0\n",
      "Alfa Ridge 129.24924924924926\n"
     ]
    }
   ],
   "source": [
    "#El mejor alfa fue\n",
    "print(\"Alfa Lasso\",modellassopoly_1.alpha_)\n",
    "print(\"Alfa Ridge\",modelridgepoly_1.alpha_)"
   ]
  },
  {
   "cell_type": "code",
   "execution_count": 37,
   "metadata": {},
   "outputs": [],
   "source": [
    "#Definamos una funcion para verificar que todos los features del polinomio sirven\n",
    "def quetiene(features,df):\n",
    "    for feat in features:\n",
    "        print(\"tiene \"+feat+\":\", df.feats.str.contains(feat).unique())\n"
   ]
  },
  {
   "cell_type": "code",
   "execution_count": 38,
   "metadata": {},
   "outputs": [
    {
     "data": {
      "text/html": [
       "<div>\n",
       "<style scoped>\n",
       "    .dataframe tbody tr th:only-of-type {\n",
       "        vertical-align: middle;\n",
       "    }\n",
       "\n",
       "    .dataframe tbody tr th {\n",
       "        vertical-align: top;\n",
       "    }\n",
       "\n",
       "    .dataframe thead th {\n",
       "        text-align: right;\n",
       "    }\n",
       "</style>\n",
       "<table border=\"1\" class=\"dataframe\">\n",
       "  <thead>\n",
       "    <tr style=\"text-align: right;\">\n",
       "      <th></th>\n",
       "      <th>coefs</th>\n",
       "      <th>feats</th>\n",
       "    </tr>\n",
       "  </thead>\n",
       "  <tbody>\n",
       "    <tr>\n",
       "      <th>239</th>\n",
       "      <td>529.504678</td>\n",
       "      <td>dis_clubes dis_subtes</td>\n",
       "    </tr>\n",
       "    <tr>\n",
       "      <th>18</th>\n",
       "      <td>282.318934</td>\n",
       "      <td>dis_subtes</td>\n",
       "    </tr>\n",
       "    <tr>\n",
       "      <th>39</th>\n",
       "      <td>272.878622</td>\n",
       "      <td>surface_total_in_m2 dis_colegios</td>\n",
       "    </tr>\n",
       "    <tr>\n",
       "      <th>279</th>\n",
       "      <td>191.703942</td>\n",
       "      <td>dis_subtes^2</td>\n",
       "    </tr>\n",
       "    <tr>\n",
       "      <th>174</th>\n",
       "      <td>191.301719</td>\n",
       "      <td>terraza dis_subtes</td>\n",
       "    </tr>\n",
       "    <tr>\n",
       "      <th>125</th>\n",
       "      <td>174.309480</td>\n",
       "      <td>pileta dis_hospitales</td>\n",
       "    </tr>\n",
       "    <tr>\n",
       "      <th>281</th>\n",
       "      <td>169.985721</td>\n",
       "      <td>dis_subtes dis_hospitales</td>\n",
       "    </tr>\n",
       "    <tr>\n",
       "      <th>24</th>\n",
       "      <td>163.436657</td>\n",
       "      <td>surface_total_in_m2^2</td>\n",
       "    </tr>\n",
       "    <tr>\n",
       "      <th>37</th>\n",
       "      <td>155.363615</td>\n",
       "      <td>surface_total_in_m2 dis_comisarias</td>\n",
       "    </tr>\n",
       "    <tr>\n",
       "      <th>127</th>\n",
       "      <td>119.976937</td>\n",
       "      <td>pileta colectivos</td>\n",
       "    </tr>\n",
       "  </tbody>\n",
       "</table>\n",
       "</div>"
      ],
      "text/plain": [
       "          coefs                               feats\n",
       "239  529.504678               dis_clubes dis_subtes\n",
       "18   282.318934                          dis_subtes\n",
       "39   272.878622    surface_total_in_m2 dis_colegios\n",
       "279  191.703942                        dis_subtes^2\n",
       "174  191.301719                  terraza dis_subtes\n",
       "125  174.309480               pileta dis_hospitales\n",
       "281  169.985721           dis_subtes dis_hospitales\n",
       "24   163.436657               surface_total_in_m2^2\n",
       "37   155.363615  surface_total_in_m2 dis_comisarias\n",
       "127  119.976937                   pileta colectivos"
      ]
     },
     "execution_count": 38,
     "metadata": {},
     "output_type": "execute_result"
    }
   ],
   "source": [
    "#Seleccionemos los Features del polinomio que no son 0\n",
    "df_coefs_1 = pd.DataFrame({\"coefs\":modellassopoly_1.coef_,\"feats\":poly.get_feature_names(X_model_train_1.columns)})\n",
    "df_coef_1_nz=df_coefs_1[(df_coefs_1[\"coefs\"]<-0.0001) | (df_coefs_1[\"coefs\"]>0.0001)]\n",
    "#pd.DataFrame({'coef':abs(modellassopoly_1.coef_), 'name':X_model_train_1.columns}).sort_values(by=\"coef\",ascending=False)\n",
    "df_coef_1_nz.sort_values(by=\"coefs\",ascending=False).head(10)"
   ]
  },
  {
   "cell_type": "code",
   "execution_count": 39,
   "metadata": {},
   "outputs": [
    {
     "data": {
      "text/html": [
       "<div>\n",
       "<style scoped>\n",
       "    .dataframe tbody tr th:only-of-type {\n",
       "        vertical-align: middle;\n",
       "    }\n",
       "\n",
       "    .dataframe tbody tr th {\n",
       "        vertical-align: top;\n",
       "    }\n",
       "\n",
       "    .dataframe thead th {\n",
       "        text-align: right;\n",
       "    }\n",
       "</style>\n",
       "<table border=\"1\" class=\"dataframe\">\n",
       "  <thead>\n",
       "    <tr style=\"text-align: right;\">\n",
       "      <th></th>\n",
       "      <th>coefs</th>\n",
       "      <th>feats</th>\n",
       "    </tr>\n",
       "  </thead>\n",
       "  <tbody>\n",
       "    <tr>\n",
       "      <th>216</th>\n",
       "      <td>-265.157016</td>\n",
       "      <td>crimes dis_subtes</td>\n",
       "    </tr>\n",
       "    <tr>\n",
       "      <th>45</th>\n",
       "      <td>-156.546617</td>\n",
       "      <td>surface_total_in_m2 colectivos</td>\n",
       "    </tr>\n",
       "    <tr>\n",
       "      <th>248</th>\n",
       "      <td>-152.549539</td>\n",
       "      <td>dis_comisarias dis_restaurants</td>\n",
       "    </tr>\n",
       "    <tr>\n",
       "      <th>40</th>\n",
       "      <td>-141.256116</td>\n",
       "      <td>surface_total_in_m2 dis_restaurants</td>\n",
       "    </tr>\n",
       "    <tr>\n",
       "      <th>203</th>\n",
       "      <td>-140.780483</td>\n",
       "      <td>balcon dis_subtes</td>\n",
       "    </tr>\n",
       "    <tr>\n",
       "      <th>284</th>\n",
       "      <td>-136.993269</td>\n",
       "      <td>dis_subtes dis_espver</td>\n",
       "    </tr>\n",
       "    <tr>\n",
       "      <th>46</th>\n",
       "      <td>-108.810174</td>\n",
       "      <td>surface_total_in_m2 dis_espver</td>\n",
       "    </tr>\n",
       "    <tr>\n",
       "      <th>229</th>\n",
       "      <td>-103.922989</td>\n",
       "      <td>dis_bancos dis_gym</td>\n",
       "    </tr>\n",
       "    <tr>\n",
       "      <th>280</th>\n",
       "      <td>-95.919527</td>\n",
       "      <td>dis_subtes dis_gym</td>\n",
       "    </tr>\n",
       "    <tr>\n",
       "      <th>84</th>\n",
       "      <td>-93.883672</td>\n",
       "      <td>seguridad dis_subtes</td>\n",
       "    </tr>\n",
       "  </tbody>\n",
       "</table>\n",
       "</div>"
      ],
      "text/plain": [
       "          coefs                                feats\n",
       "216 -265.157016                    crimes dis_subtes\n",
       "45  -156.546617       surface_total_in_m2 colectivos\n",
       "248 -152.549539       dis_comisarias dis_restaurants\n",
       "40  -141.256116  surface_total_in_m2 dis_restaurants\n",
       "203 -140.780483                    balcon dis_subtes\n",
       "284 -136.993269                dis_subtes dis_espver\n",
       "46  -108.810174       surface_total_in_m2 dis_espver\n",
       "229 -103.922989                   dis_bancos dis_gym\n",
       "280  -95.919527                   dis_subtes dis_gym\n",
       "84   -93.883672                 seguridad dis_subtes"
      ]
     },
     "execution_count": 39,
     "metadata": {},
     "output_type": "execute_result"
    }
   ],
   "source": [
    "df_coef_1_nz.sort_values(by=\"coefs\",ascending=True).head(10)"
   ]
  },
  {
   "cell_type": "code",
   "execution_count": 40,
   "metadata": {},
   "outputs": [
    {
     "name": "stdout",
     "output_type": "stream",
     "text": [
      "tiene surface_total_in_m2: [False  True]\n",
      "tiene cochera: [False  True]\n",
      "tiene seguridad: [False  True]\n",
      "tiene parrilla: [False  True]\n",
      "tiene pileta: [False  True]\n",
      "tiene gimnasio: [False  True]\n",
      "tiene acondicionado: [False  True]\n",
      "tiene terraza: [False  True]\n",
      "tiene lavadero: [False  True]\n",
      "tiene balcon: [False  True]\n",
      "tiene crimes: [False  True]\n",
      "tiene dis_bancos: [False  True]\n",
      "tiene dis_clubes: [False  True]\n",
      "tiene dis_comisarias: [False  True]\n",
      "tiene dis_bomberos: [False  True]\n",
      "tiene dis_colegios: [False  True]\n",
      "tiene dis_restaurants: [False  True]\n",
      "tiene dis_subtes: [ True False]\n",
      "tiene dis_gym: [False  True]\n",
      "tiene dis_hospitales: [False  True]\n",
      "tiene dis_universidades: [False  True]\n",
      "tiene colectivos: [False  True]\n",
      "tiene dis_espver: [False  True]\n"
     ]
    }
   ],
   "source": [
    "#Observemos si hay Features de base del polinomio que no se utilicen, si fuesen solo False podrian descartarse\n",
    "feat_ls = ['surface_total_in_m2','cochera','seguridad',\n",
    "              'parrilla','pileta','gimnasio','acondicionado','terraza','lavadero','balcon',\n",
    "              'crimes','dis_bancos','dis_clubes','dis_comisarias','dis_bomberos','dis_colegios',\n",
    "              'dis_restaurants','dis_subtes','dis_gym','dis_hospitales','dis_universidades','colectivos','dis_espver']\n",
    "quetiene(feat_ls,df_coef_1_nz)"
   ]
  },
  {
   "cell_type": "code",
   "execution_count": 41,
   "metadata": {},
   "outputs": [],
   "source": [
    "#Estandaricemos los valores Test\n",
    "poly_X_st_test_1 = se.fit_transform(poly_x_test_1)"
   ]
  },
  {
   "cell_type": "code",
   "execution_count": 42,
   "metadata": {
    "scrolled": true
   },
   "outputs": [
    {
     "name": "stdout",
     "output_type": "stream",
     "text": [
      "Score Test Lasso Polinomio: 0.7827687493079011\n",
      "Score Test Ridge Polinomio: 0.7764625391199568\n",
      "Test MSE Lasso Polinomio: 575037.9460350558\n",
      "Test MSE Ridge Polinomio: 591731.2631438392\n"
     ]
    }
   ],
   "source": [
    "# Calculamos el R2 Lasso de Test\n",
    "\n",
    "lmpred_lasso_poly_Te_1 = modellassopoly_1.predict(poly_X_st_test_1)\n",
    "lmpred_ridge_poly_Te_1 = modelridgepoly_1.predict(poly_X_st_test_1)\n",
    "print(\"Score Test Lasso Polinomio:\", r2_score(y_model_test_1,lmpred_lasso_poly_Te_1))\n",
    "print(\"Score Test Ridge Polinomio:\", r2_score(y_model_test_1,lmpred_ridge_poly_Te_1))\n",
    "\n",
    "# Calculamos el MSE\n",
    "\n",
    "print(\"Test MSE Lasso Polinomio:\", mean_squared_error(y_model_test_1,lmpred_lasso_poly_Te_1))\n",
    "print(\"Test MSE Ridge Polinomio:\", mean_squared_error(y_model_test_1,lmpred_ridge_poly_Te_1))"
   ]
  },
  {
   "cell_type": "code",
   "execution_count": 43,
   "metadata": {},
   "outputs": [],
   "source": [
    "def proba_model(semillas):\n",
    "    scores=[]\n",
    "    for s in semillas:      \n",
    "        X_tr_52, X_te_52, y_tr_52, y_te_52 = train_test_split(df1, df1, test_size=0.3, random_state=s)\n",
    "        X_model_test_52 = X_te_52[feature_cols]\n",
    "        y_model_test_52 = y_te_52[\"price_usd_per_m2\"]\n",
    "        poly_x_52 = poly.fit_transform(X_model_test_52)\n",
    "        poly_x_test_52 = se.transform(poly_x_52)\n",
    "        lmpred_lasso_poly_Te_52 = modellassopoly_1.predict(poly_x_test_52)\n",
    "        #print(\"Score Lasso \",s,\":\", r2_score(y_model_test_52,lmpred_lasso_poly_Te_52))\n",
    "        scores.append(r2_score(y_model_test_52,lmpred_lasso_poly_Te_52))\n",
    "        #print(\"Test MSE Lasso \",s,\":\", mean_squared_error(y_model_test_52,lmpred_lasso_poly_Te_52))\n",
    "    print(\"Scores Media:\",np.mean(scores))"
   ]
  },
  {
   "cell_type": "code",
   "execution_count": 44,
   "metadata": {},
   "outputs": [],
   "source": [
    "'''pruebo con 100 semillas distintas el modelo para ver la performance real'''\n",
    "semillas = np.random.randint(1,200,100)"
   ]
  },
  {
   "cell_type": "code",
   "execution_count": 45,
   "metadata": {},
   "outputs": [
    {
     "name": "stdout",
     "output_type": "stream",
     "text": [
      "Scores Media: 0.6951450085294256\n"
     ]
    }
   ],
   "source": [
    "proba_model(semillas)"
   ]
  },
  {
   "cell_type": "code",
   "execution_count": 46,
   "metadata": {},
   "outputs": [
    {
     "data": {
      "text/plain": [
       "'Para la comuna 1 el polinomio con todas las variables dio mejor resultado que la regresion lineal simple'"
      ]
     },
     "execution_count": 46,
     "metadata": {},
     "output_type": "execute_result"
    }
   ],
   "source": [
    "'''Para la comuna 1 el polinomio con todas las variables dio mejor resultado que la regresion lineal simple'''"
   ]
  },
  {
   "cell_type": "code",
   "execution_count": 47,
   "metadata": {},
   "outputs": [],
   "source": [
    "'''Probemos por separado la influencia de los Features Endógenos y Exógenos'''\n",
    "features_endogenos=['surface_total_in_m2','cochera','seguridad',\n",
    "              'parrilla','pileta','gimnasio','acondicionado','terraza','lavadero','balcon']\n",
    "\n",
    "features_exogenos=['crimes','dis_bancos','dis_clubes','dis_comisarias','dis_bomberos','dis_colegios',\n",
    "              'dis_restaurants','dis_subtes','dis_gym','dis_hospitales','dis_universidades','colectivos','dis_espver']\n",
    "\n",
    "X_model_train_1_endo = X_train_1[features_endogenos]\n",
    "X_model_test_1_endo = X_te_1[features_endogenos]\n",
    "X_model_train_1_exo = X_train_1[features_exogenos]\n",
    "X_model_test_1_exo = X_te_1[features_exogenos]\n",
    "\n",
    "y_model_train_1 = y_train_1[\"price_usd_per_m2\"]\n",
    "y_model_test_1 = y_te_1[\"price_usd_per_m2\"]"
   ]
  },
  {
   "cell_type": "code",
   "execution_count": 48,
   "metadata": {},
   "outputs": [],
   "source": [
    "#Definamos un polinomio de Features\n",
    "poly = PolynomialFeatures(interaction_only=False)\n",
    "poly_x_train_1_endo = poly.fit_transform(X_model_train_1_endo)\n",
    "poly_x_test_1_endo = poly.transform(X_model_test_1_endo)\n",
    "poly_x_train_1_exo = poly.fit_transform(X_model_train_1_exo)\n",
    "poly_x_test_1_exo = poly.transform(X_model_test_1_exo)"
   ]
  },
  {
   "cell_type": "code",
   "execution_count": 49,
   "metadata": {},
   "outputs": [],
   "source": [
    "#Hagamos la regresion lineal del polinomio\n",
    "linregpoly_1_endo = LinearRegression()\n",
    "linregpoly_1_exo = LinearRegression()\n",
    "linregpoly_1_endo.fit(poly_x_train_1_endo, y_model_train_1)\n",
    "linpoly_result_endo = cross_val_score(linregpoly_1_endo,poly_x_train_1_endo,y_model_train_1,cv=5)\n",
    "linregpoly_1_exo.fit(poly_x_train_1_exo, y_model_train_1)\n",
    "linpoly_result_exo = cross_val_score(linregpoly_1_exo,poly_x_train_1_exo,y_model_train_1,cv=5)"
   ]
  },
  {
   "cell_type": "code",
   "execution_count": 50,
   "metadata": {},
   "outputs": [
    {
     "name": "stdout",
     "output_type": "stream",
     "text": [
      "Score Train Lineal Endógenos: 0.5503574919418278\n",
      "Score Train Lineal Exógenos: 0.7934148833104888\n",
      "Train MSE lineal Endógenos: 1337659.1197607473\n",
      "Train MSE lineal Exógenos 614578.160192122\n",
      "CV Training Score Endógenos: [0.44109251 0.58064874 0.42149787 0.46883633 0.51758888]\n",
      "CV Training Score Exógenos: [0.79584007 0.7345689  0.78839197 0.70133381 0.74672776]\n",
      "Endógenos media: 0.4859328626695036 desviacion: 0.05732018466448128\n",
      "Exógenos media: 0.7533725009047976 desviacion: 0.03503030582711889\n"
     ]
    }
   ],
   "source": [
    "# Calculamos el R2 de la Regresion Lineal\n",
    "\n",
    "print(\"Score Train Lineal Endógenos:\", linregpoly_1_endo.score(poly_x_train_1_endo, y_model_train_1))\n",
    "print(\"Score Train Lineal Exógenos:\", linregpoly_1_exo.score(poly_x_train_1_exo, y_model_train_1))\n",
    "# Calculamos el MSE\n",
    "\n",
    "lmpred_Tr_1_endo = linregpoly_1_endo.predict(poly_x_train_1_endo)\n",
    "lmpred_Tr_1_exo = linregpoly_1_exo.predict(poly_x_train_1_exo)\n",
    "\n",
    "print(\"Train MSE lineal Endógenos:\", mean_squared_error(y_model_train_1,lmpred_Tr_1_endo))\n",
    "print(\"Train MSE lineal Exógenos\", mean_squared_error(y_model_train_1,lmpred_Tr_1_exo))\n",
    "print(\"CV Training Score Endógenos:\", linpoly_result_endo)\n",
    "print(\"CV Training Score Exógenos:\", linpoly_result_exo)\n",
    "print(\"Endógenos media:\", linpoly_result_endo.mean(),\"desviacion:\",np.std(linpoly_result_endo))\n",
    "print(\"Exógenos media:\", linpoly_result_exo.mean(),\"desviacion:\",np.std(linpoly_result_exo))"
   ]
  },
  {
   "cell_type": "code",
   "execution_count": 51,
   "metadata": {},
   "outputs": [
    {
     "name": "stdout",
     "output_type": "stream",
     "text": [
      "Score TestLineal Endógenos: 0.3527060146153026\n",
      "Score TestLineal Exógenos: 0.7539437086239182\n",
      "Test MSE lineal Endógenos 1713467.1123541067\n",
      "Test MSE lineal Exógenos: 651341.3882722335\n"
     ]
    }
   ],
   "source": [
    "# Calculamos el R2 de la Regresion Lineal de Test\n",
    "\n",
    "print(\"Score TestLineal Endógenos:\", linregpoly_1_endo.score(poly_x_test_1_endo, y_model_test_1))\n",
    "print(\"Score TestLineal Exógenos:\", linregpoly_1_exo.score(poly_x_test_1_exo, y_model_test_1))\n",
    "# Calculamos el MSE\n",
    "\n",
    "lmpred_Te_1_endo = linregpoly_1_endo.predict(poly_x_test_1_endo)\n",
    "lmpred_Te_1_exo = linregpoly_1_exo.predict(poly_x_test_1_exo)\n",
    "print(\"Test MSE lineal Endógenos\", mean_squared_error(y_model_test_1,lmpred_Te_1_endo))\n",
    "print(\"Test MSE lineal Exógenos:\", mean_squared_error(y_model_test_1,lmpred_Te_1_exo))"
   ]
  },
  {
   "cell_type": "code",
   "execution_count": 52,
   "metadata": {},
   "outputs": [],
   "source": [
    "#Estandaricemos el polinomio\n",
    "se = StandardScaler()\n",
    "poly_x_st_1_endo = se.fit_transform(poly_x_train_1_endo)\n",
    "poly_x_st_1_exo = se.fit_transform(poly_x_train_1_exo)"
   ]
  },
  {
   "cell_type": "code",
   "execution_count": 53,
   "metadata": {},
   "outputs": [],
   "source": [
    "#Probemos alfas\n",
    "myalphas2_1_endo = np.linspace(4,10,1000)\n",
    "myalphas2_1_exo = np.linspace(3.8,4.5,1000)"
   ]
  },
  {
   "cell_type": "code",
   "execution_count": 54,
   "metadata": {},
   "outputs": [],
   "source": [
    "#modellasso = Lasso()\n",
    "#modellasso.fit(X_st,y_train)"
   ]
  },
  {
   "cell_type": "code",
   "execution_count": 55,
   "metadata": {},
   "outputs": [
    {
     "name": "stderr",
     "output_type": "stream",
     "text": [
      "C:\\Users\\Alfredo\\Anaconda3\\lib\\site-packages\\sklearn\\linear_model\\_coordinate_descent.py:527: ConvergenceWarning: Objective did not converge. You might want to increase the number of iterations. Duality gap: 1249355.4276623726, tolerance: 345808.63753994304\n",
      "  tol, rng, random, positive)\n",
      "C:\\Users\\Alfredo\\Anaconda3\\lib\\site-packages\\sklearn\\linear_model\\_coordinate_descent.py:527: ConvergenceWarning: Objective did not converge. You might want to increase the number of iterations. Duality gap: 1474926.5131635666, tolerance: 352681.3710587428\n",
      "  tol, rng, random, positive)\n",
      "C:\\Users\\Alfredo\\Anaconda3\\lib\\site-packages\\sklearn\\linear_model\\_coordinate_descent.py:527: ConvergenceWarning: Objective did not converge. You might want to increase the number of iterations. Duality gap: 1143305.3822102547, tolerance: 349619.0021486525\n",
      "  tol, rng, random, positive)\n",
      "C:\\Users\\Alfredo\\Anaconda3\\lib\\site-packages\\sklearn\\linear_model\\_coordinate_descent.py:527: ConvergenceWarning: Objective did not converge. You might want to increase the number of iterations. Duality gap: 1998845.4670100212, tolerance: 341892.1391185213\n",
      "  tol, rng, random, positive)\n",
      "C:\\Users\\Alfredo\\Anaconda3\\lib\\site-packages\\sklearn\\linear_model\\_coordinate_descent.py:531: ConvergenceWarning: Objective did not converge. You might want to increase the number of iterations. Duality gap: 1361692.8329033852, tolerance: 433151.14640355017\n",
      "  positive)\n",
      "C:\\Users\\Alfredo\\Anaconda3\\lib\\site-packages\\sklearn\\linear_model\\_coordinate_descent.py:527: ConvergenceWarning: Objective did not converge. You might want to increase the number of iterations. Duality gap: 869069.929739356, tolerance: 276170.92219939403\n",
      "  tol, rng, random, positive)\n",
      "C:\\Users\\Alfredo\\Anaconda3\\lib\\site-packages\\sklearn\\linear_model\\_coordinate_descent.py:527: ConvergenceWarning: Objective did not converge. You might want to increase the number of iterations. Duality gap: 1281859.8009786606, tolerance: 281510.6841757055\n",
      "  tol, rng, random, positive)\n",
      "C:\\Users\\Alfredo\\Anaconda3\\lib\\site-packages\\sklearn\\linear_model\\_coordinate_descent.py:527: ConvergenceWarning: Objective did not converge. You might want to increase the number of iterations. Duality gap: 375519.74189686775, tolerance: 272086.6205852799\n",
      "  tol, rng, random, positive)\n",
      "C:\\Users\\Alfredo\\Anaconda3\\lib\\site-packages\\sklearn\\linear_model\\_coordinate_descent.py:527: ConvergenceWarning: Objective did not converge. You might want to increase the number of iterations. Duality gap: 937479.7060537338, tolerance: 265284.323379516\n",
      "  tol, rng, random, positive)\n",
      "C:\\Users\\Alfredo\\Anaconda3\\lib\\site-packages\\sklearn\\linear_model\\_coordinate_descent.py:531: ConvergenceWarning: Objective did not converge. You might want to increase the number of iterations. Duality gap: 1492728.1338665485, tolerance: 342488.4911694039\n",
      "  positive)\n",
      "C:\\Users\\Alfredo\\Anaconda3\\lib\\site-packages\\sklearn\\linear_model\\_coordinate_descent.py:527: ConvergenceWarning: Objective did not converge. You might want to increase the number of iterations. Duality gap: 1963168.4013652802, tolerance: 276854.61798887956\n",
      "  tol, rng, random, positive)\n",
      "C:\\Users\\Alfredo\\Anaconda3\\lib\\site-packages\\sklearn\\linear_model\\_coordinate_descent.py:527: ConvergenceWarning: Objective did not converge. You might want to increase the number of iterations. Duality gap: 535060.2801408768, tolerance: 277593.925691266\n",
      "  tol, rng, random, positive)\n",
      "C:\\Users\\Alfredo\\Anaconda3\\lib\\site-packages\\sklearn\\linear_model\\_coordinate_descent.py:527: ConvergenceWarning: Objective did not converge. You might want to increase the number of iterations. Duality gap: 1538993.6366733313, tolerance: 284849.6178043208\n",
      "  tol, rng, random, positive)\n",
      "C:\\Users\\Alfredo\\Anaconda3\\lib\\site-packages\\sklearn\\linear_model\\_coordinate_descent.py:527: ConvergenceWarning: Objective did not converge. You might want to increase the number of iterations. Duality gap: 596607.4954147339, tolerance: 275249.87889984215\n",
      "  tol, rng, random, positive)\n",
      "C:\\Users\\Alfredo\\Anaconda3\\lib\\site-packages\\sklearn\\linear_model\\_coordinate_descent.py:527: ConvergenceWarning: Objective did not converge. You might want to increase the number of iterations. Duality gap: 1134314.7111546993, tolerance: 268575.55026419245\n",
      "  tol, rng, random, positive)\n",
      "C:\\Users\\Alfredo\\Anaconda3\\lib\\site-packages\\sklearn\\linear_model\\_coordinate_descent.py:531: ConvergenceWarning: Objective did not converge. You might want to increase the number of iterations. Duality gap: 2643663.2275760174, tolerance: 345808.63753994304\n",
      "  positive)\n",
      "C:\\Users\\Alfredo\\Anaconda3\\lib\\site-packages\\sklearn\\linear_model\\_coordinate_descent.py:527: ConvergenceWarning: Objective did not converge. You might want to increase the number of iterations. Duality gap: 3144169.3648946285, tolerance: 283750.644730504\n",
      "  tol, rng, random, positive)\n",
      "C:\\Users\\Alfredo\\Anaconda3\\lib\\site-packages\\sklearn\\linear_model\\_coordinate_descent.py:527: ConvergenceWarning: Objective did not converge. You might want to increase the number of iterations. Duality gap: 915457.9887979031, tolerance: 293115.653512524\n",
      "  tol, rng, random, positive)\n",
      "C:\\Users\\Alfredo\\Anaconda3\\lib\\site-packages\\sklearn\\linear_model\\_coordinate_descent.py:527: ConvergenceWarning: Objective did not converge. You might want to increase the number of iterations. Duality gap: 568424.8530294895, tolerance: 282092.34850435145\n",
      "  tol, rng, random, positive)\n",
      "C:\\Users\\Alfredo\\Anaconda3\\lib\\site-packages\\sklearn\\linear_model\\_coordinate_descent.py:527: ConvergenceWarning: Objective did not converge. You might want to increase the number of iterations. Duality gap: 425311.0397322178, tolerance: 275440.96632357157\n",
      "  tol, rng, random, positive)\n",
      "C:\\Users\\Alfredo\\Anaconda3\\lib\\site-packages\\sklearn\\linear_model\\_coordinate_descent.py:531: ConvergenceWarning: Objective did not converge. You might want to increase the number of iterations. Duality gap: 4579439.674372554, tolerance: 352681.3710587428\n",
      "  positive)\n",
      "C:\\Users\\Alfredo\\Anaconda3\\lib\\site-packages\\sklearn\\linear_model\\_coordinate_descent.py:527: ConvergenceWarning: Objective did not converge. You might want to increase the number of iterations. Duality gap: 432048.9005817175, tolerance: 280701.73437095666\n",
      "  tol, rng, random, positive)\n",
      "C:\\Users\\Alfredo\\Anaconda3\\lib\\site-packages\\sklearn\\linear_model\\_coordinate_descent.py:527: ConvergenceWarning: Objective did not converge. You might want to increase the number of iterations. Duality gap: 2202502.46800673, tolerance: 273179.5223832383\n",
      "  tol, rng, random, positive)\n",
      "C:\\Users\\Alfredo\\Anaconda3\\lib\\site-packages\\sklearn\\linear_model\\_coordinate_descent.py:527: ConvergenceWarning: Objective did not converge. You might want to increase the number of iterations. Duality gap: 1312900.7775770426, tolerance: 287859.9722738412\n",
      "  tol, rng, random, positive)\n",
      "C:\\Users\\Alfredo\\Anaconda3\\lib\\site-packages\\sklearn\\linear_model\\_coordinate_descent.py:527: ConvergenceWarning: Objective did not converge. You might want to increase the number of iterations. Duality gap: 1003917.0142624378, tolerance: 284287.35682627134\n",
      "  tol, rng, random, positive)\n",
      "C:\\Users\\Alfredo\\Anaconda3\\lib\\site-packages\\sklearn\\linear_model\\_coordinate_descent.py:527: ConvergenceWarning: Objective did not converge. You might want to increase the number of iterations. Duality gap: 1248833.3277782202, tolerance: 272372.96604437457\n",
      "  tol, rng, random, positive)\n",
      "C:\\Users\\Alfredo\\Anaconda3\\lib\\site-packages\\sklearn\\linear_model\\_coordinate_descent.py:531: ConvergenceWarning: Objective did not converge. You might want to increase the number of iterations. Duality gap: 2978763.6447304487, tolerance: 349619.00214865245\n",
      "  positive)\n",
      "C:\\Users\\Alfredo\\Anaconda3\\lib\\site-packages\\sklearn\\linear_model\\_coordinate_descent.py:527: ConvergenceWarning: Objective did not converge. You might want to increase the number of iterations. Duality gap: 393826.55170714855, tolerance: 273001.17035673157\n",
      "  tol, rng, random, positive)\n",
      "C:\\Users\\Alfredo\\Anaconda3\\lib\\site-packages\\sklearn\\linear_model\\_coordinate_descent.py:527: ConvergenceWarning: Objective did not converge. You might want to increase the number of iterations. Duality gap: 2155624.5843703747, tolerance: 265478.70522107254\n",
      "  tol, rng, random, positive)\n"
     ]
    },
    {
     "name": "stderr",
     "output_type": "stream",
     "text": [
      "C:\\Users\\Alfredo\\Anaconda3\\lib\\site-packages\\sklearn\\linear_model\\_coordinate_descent.py:527: ConvergenceWarning: Objective did not converge. You might want to increase the number of iterations. Duality gap: 541466.7593541145, tolerance: 280100.19530713215\n",
      "  tol, rng, random, positive)\n",
      "C:\\Users\\Alfredo\\Anaconda3\\lib\\site-packages\\sklearn\\linear_model\\_coordinate_descent.py:527: ConvergenceWarning: Objective did not converge. You might want to increase the number of iterations. Duality gap: 637005.1084508896, tolerance: 277662.3277192729\n",
      "  tol, rng, random, positive)\n",
      "C:\\Users\\Alfredo\\Anaconda3\\lib\\site-packages\\sklearn\\linear_model\\_coordinate_descent.py:527: ConvergenceWarning: Objective did not converge. You might want to increase the number of iterations. Duality gap: 1317985.3126313686, tolerance: 271221.1129060586\n",
      "  tol, rng, random, positive)\n"
     ]
    },
    {
     "name": "stdout",
     "output_type": "stream",
     "text": [
      "Endógenos media: 0.490893203228319 desviacion: 0.051830783734106683\n",
      "Exógenos media: 0.752341692808887 desviacion: 0.027476356378894617\n"
     ]
    },
    {
     "name": "stderr",
     "output_type": "stream",
     "text": [
      "C:\\Users\\Alfredo\\Anaconda3\\lib\\site-packages\\sklearn\\linear_model\\_coordinate_descent.py:531: ConvergenceWarning: Objective did not converge. You might want to increase the number of iterations. Duality gap: 5083319.4724577665, tolerance: 341892.1391185213\n",
      "  positive)\n"
     ]
    }
   ],
   "source": [
    "#Generemos un modelo Lasso para el polinomio con cross-validation\n",
    "modellassopoly_1_endo = LassoCV(alphas=myalphas2_1_endo)\n",
    "modellassopoly_1_exo = LassoCV(alphas=myalphas2_1_exo)\n",
    "modellassopoly_1_endo.fit(poly_x_st_1_endo,y_model_train_1)\n",
    "modellassopoly_1_exo.fit(poly_x_st_1_exo,y_model_train_1)\n",
    "polylasso_results_endo = cross_val_score(modellassopoly_1_endo,poly_x_st_1_endo,y_model_train_1,cv=5,scoring='r2')\n",
    "polylasso_results_exo = cross_val_score(modellassopoly_1_exo,poly_x_st_1_exo,y_model_train_1,cv=5,scoring='r2')\n",
    "print(\"Endógenos media:\", polylasso_results_endo.mean(),\"desviacion:\",np.std(polylasso_results_endo))\n",
    "print(\"Exógenos media:\", polylasso_results_exo.mean(),\"desviacion:\",np.std(polylasso_results_exo))"
   ]
  },
  {
   "cell_type": "code",
   "execution_count": 56,
   "metadata": {
    "scrolled": false
   },
   "outputs": [
    {
     "name": "stdout",
     "output_type": "stream",
     "text": [
      "Alfa Endógenos: 5.141141141141141\n",
      "Alfa Exógenos: 3.8\n"
     ]
    }
   ],
   "source": [
    "#El mejor alfa fue\n",
    "print(\"Alfa Endógenos:\", modellassopoly_1_endo.alpha_)\n",
    "print(\"Alfa Exógenos:\", modellassopoly_1_exo.alpha_)"
   ]
  },
  {
   "cell_type": "code",
   "execution_count": 57,
   "metadata": {
    "scrolled": false
   },
   "outputs": [],
   "source": [
    "#modellassopoly_1.coef_"
   ]
  },
  {
   "cell_type": "code",
   "execution_count": 58,
   "metadata": {},
   "outputs": [],
   "source": [
    "#Estandaricemos los valores Test\n",
    "poly_X_st_test_1_endo = se.fit_transform(poly_x_test_1_endo)\n",
    "poly_X_st_test_1_exo = se.fit_transform(poly_x_test_1_exo)"
   ]
  },
  {
   "cell_type": "code",
   "execution_count": 59,
   "metadata": {
    "scrolled": true
   },
   "outputs": [
    {
     "name": "stdout",
     "output_type": "stream",
     "text": [
      "Endógenos Score Test Lasso: 0.4082596285085831\n",
      "Exógenos Score Test Lasso: 0.7464255210347233\n",
      "Endógenos Test MSE Lasso= 1566409.8361738226\n",
      "Exógenos Test MSE Lasso= 671242.9592267947\n"
     ]
    }
   ],
   "source": [
    "# Calculamos el R2 Lasso de Test\n",
    "\n",
    "lmpred_lasso_poly_Te_1_endo = modellassopoly_1_endo.predict(poly_X_st_test_1_endo)\n",
    "lmpred_lasso_poly_Te_1_exo = modellassopoly_1_exo.predict(poly_X_st_test_1_exo)\n",
    "print(\"Endógenos Score Test Lasso:\", r2_score(y_model_test_1,lmpred_lasso_poly_Te_1_endo))\n",
    "print(\"Exógenos Score Test Lasso:\", r2_score(y_model_test_1,lmpred_lasso_poly_Te_1_exo))\n",
    "\n",
    "# Calculamos el MSE\n",
    "\n",
    "print(\"Endógenos Test MSE Lasso=\", mean_squared_error(y_model_test_1,lmpred_lasso_poly_Te_1_endo))\n",
    "print(\"Exógenos Test MSE Lasso=\", mean_squared_error(y_model_test_1,lmpred_lasso_poly_Te_1_exo))"
   ]
  },
  {
   "cell_type": "code",
   "execution_count": 60,
   "metadata": {},
   "outputs": [
    {
     "data": {
      "text/plain": [
       "'En Vista a los datos, parecería que los Features exógenos explican en mayor proporción el precio por m2,\\nes decir que hay una mayor dependencia a la localización de la propiedad frente a las características particulares\\nde la propiedad, Siendo la proporción el doble aproximadamente.\\nSe podría decir que las características endógenas son derivables de las caracteristicas inherentes a la ubicación '"
      ]
     },
     "execution_count": 60,
     "metadata": {},
     "output_type": "execute_result"
    }
   ],
   "source": [
    "'''En Vista a los datos, parecería que los Features exógenos explican en mayor proporción el precio por m2,\n",
    "es decir que hay una mayor dependencia a la localización de la propiedad frente a las características particulares\n",
    "de la propiedad, Siendo la proporción el doble aproximadamente.\n",
    "Se podría decir que las características endógenas son derivables de las caracteristicas inherentes a la ubicación '''"
   ]
  },
  {
   "cell_type": "code",
   "execution_count": null,
   "metadata": {},
   "outputs": [],
   "source": []
  }
 ],
 "metadata": {
  "kernelspec": {
   "display_name": "Python 3",
   "language": "python",
   "name": "python3"
  },
  "language_info": {
   "codemirror_mode": {
    "name": "ipython",
    "version": 3
   },
   "file_extension": ".py",
   "mimetype": "text/x-python",
   "name": "python",
   "nbconvert_exporter": "python",
   "pygments_lexer": "ipython3",
   "version": "3.7.8"
  }
 },
 "nbformat": 4,
 "nbformat_minor": 2
}
